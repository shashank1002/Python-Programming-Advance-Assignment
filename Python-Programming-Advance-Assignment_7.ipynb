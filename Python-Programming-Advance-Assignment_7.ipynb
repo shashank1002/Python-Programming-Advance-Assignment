{
 "cells": [
  {
   "cell_type": "markdown",
   "id": "2f014c6d",
   "metadata": {},
   "source": [
    "1. Write a function that counts how many concentric layers a rug."
   ]
  },
  {
   "cell_type": "code",
   "execution_count": 1,
   "id": "10cb7482",
   "metadata": {},
   "outputs": [
    {
     "data": {
      "text/plain": [
       "2"
      ]
     },
     "execution_count": 1,
     "metadata": {},
     "output_type": "execute_result"
    }
   ],
   "source": [
    "def count_layers(n):\n",
    "    return (len(n) + 1) // 2\n",
    "count_layers([\n",
    "'AAAA',\n",
    "'ABBA',\n",
    "'AAAA'\n",
    "])"
   ]
  },
  {
   "cell_type": "markdown",
   "id": "cb9cbec7",
   "metadata": {},
   "source": [
    "2. There are many different styles of music and many albums exhibit multiple\n",
    "styles. Create a function that takes a list of musical styles from albums and\n",
    "returns how many styles are unique."
   ]
  },
  {
   "cell_type": "code",
   "execution_count": 2,
   "id": "69fa3a64",
   "metadata": {},
   "outputs": [
    {
     "data": {
      "text/plain": [
       "9"
      ]
     },
     "execution_count": 2,
     "metadata": {},
     "output_type": "execute_result"
    }
   ],
   "source": [
    "def unique_styles(n):\n",
    "    return len(set([j for i in n for j in i.split(',')]))\n",
    "unique_styles([\n",
    "'Dub,Dancehall',\n",
    "'Industrial,Heavy Metal',\n",
    "'Techno,Dubstep',\n",
    "'Synth-pop,Euro-Disco',\n",
    "'Industrial,Techno,Minimal'\n",
    "])"
   ]
  },
  {
   "cell_type": "markdown",
   "id": "d793ccb0",
   "metadata": {},
   "source": [
    "3. Create a function that finds a target number in a list of prime numbers.\n",
    "Implement a binary search algorithm in your function. The target number will\n",
    "be from 2 through 97. If the target is prime then return 'yes' else return 'no'."
   ]
  },
  {
   "cell_type": "code",
   "execution_count": 4,
   "id": "84b6b27f",
   "metadata": {},
   "outputs": [
    {
     "name": "stdout",
     "output_type": "stream",
     "text": [
      "is_prime(3) ➞ Yes\n",
      "is_prime(4) ➞ No\n",
      "is_prime(67) ➞ Yes\n",
      "is_prime(36) ➞ No\n"
     ]
    }
   ],
   "source": [
    "primes = [2, 3, 5, 7, 11, 13, 17, 19, 23, 29, 31, 37, 41, 43, 47, 53, 59, 61, 67,\n",
    "71, 73, 79, 83, 89, 97]\n",
    "def is_prime(in_list,in_num):\n",
    "    output = 'No'\n",
    "    start_point = 0\n",
    "    end_point = len(in_list) - 1\n",
    "    mid_point = 0\n",
    "    while start_point <= end_point:\n",
    "        mid_point = (end_point+start_point)//2\n",
    "        if in_list[mid_point] < in_num:\n",
    "            start_point = mid_point + 1\n",
    "        elif in_list[mid_point] > in_num:\n",
    "            end_point = mid_point - 1\n",
    "        else:\n",
    "            output = 'Yes'\n",
    "            break\n",
    "    print(f'is_prime({in_num}) ➞ {output}')\n",
    "\n",
    "is_prime(primes, 3)\n",
    "is_prime(primes, 4)\n",
    "is_prime(primes, 67)\n",
    "is_prime(primes, 36)"
   ]
  },
  {
   "cell_type": "markdown",
   "id": "81be2965",
   "metadata": {},
   "source": [
    "4. Create a function that takes in n, a, b and returns the number of positive\n",
    "values raised to the nth power that lie in the range [a, b], inclusive.\n",
    "\n",
    "Examples\n",
    "\n",
    "power_ranger(2, 49, 65) ➞ 2\n",
    "\n",
    "#2 squares (n^2) lie between 49 and 65, 49 (7^2) and 64 (8^2)\n",
    "\n",
    "power_ranger(3, 1, 27) ➞ 3\n",
    "\n",
    "#3 cubes (n^3) lie between 1 and 27, 1 (1^3), 8 (2^3) and 27 (3^3)\n",
    "\n",
    "power_ranger(10, 1, 5) ➞ 1\n",
    "\n",
    "#1 value raised to the 10th power lies between 1 and 5, 1 (1^10)\n",
    "\n",
    "power_ranger(5, 31, 33) ➞ 1\n",
    "\n",
    "power_ranger(4, 250, 1300) ➞ 3"
   ]
  },
  {
   "cell_type": "code",
   "execution_count": 5,
   "id": "476da397",
   "metadata": {},
   "outputs": [
    {
     "name": "stdout",
     "output_type": "stream",
     "text": [
      "power_ranger(2, 49, 65) ➞ 2\n",
      "power_ranger(3, 1, 27) ➞ 3\n",
      "power_ranger(10, 1, 5) ➞ 1\n",
      "power_ranger(5, 31, 33) ➞ 1\n",
      "power_ranger(4, 250, 1300) ➞ 3\n"
     ]
    }
   ],
   "source": [
    "import math\n",
    "def power_ranger(in_base,in_min,in_max):\n",
    "    output = []\n",
    "    for ele in range(in_min,in_max+1):\n",
    "        root = round(math.exp(math.log(ele)/in_base),1)\n",
    "        if str(root).split(\".\")[1] == '0':\n",
    "            output.append(int(root))\n",
    "    print(f'power_ranger{in_base,in_min,in_max} ➞ {len(set(output))}')\n",
    "\n",
    "power_ranger(2, 49, 65)\n",
    "power_ranger(3, 1, 27)\n",
    "power_ranger(10, 1, 5)\n",
    "power_ranger(5, 31, 33)\n",
    "power_ranger(4, 250, 1300)"
   ]
  },
  {
   "cell_type": "markdown",
   "id": "7dbe16d9",
   "metadata": {},
   "source": [
    "5. Given a number, return the difference between the maximum and minimum\n",
    "numbers that can be formed when the digits are rearranged.\n",
    "\n",
    "Examples:\n",
    "\n",
    "rearranged_difference(972882) ➞ 760833\n",
    "\n",
    "988722 - 227889 = 760833\n",
    "\n",
    "rearranged_difference(3320707) ➞ 7709823\n",
    "\n",
    "7733200 - 23377 = 7709823\n"
   ]
  },
  {
   "cell_type": "code",
   "execution_count": 6,
   "id": "88392e87",
   "metadata": {},
   "outputs": [
    {
     "name": "stdout",
     "output_type": "stream",
     "text": [
      "rearranged_difference(972882) ➞ 988722 - 227889 ➞ 760833\n",
      "rearranged_difference(3320707) ➞ 7733200 - 23377 ➞ 7709823\n",
      "rearranged_difference(91000) ➞ 91000 - 19 ➞ 90981\n"
     ]
    }
   ],
   "source": [
    "def rearrange_difference(num):\n",
    "    l = []\n",
    "    for i in str(num):\n",
    "        l.append(i)\n",
    "    min_number = int(''.join(sorted(l))) \n",
    "    max_number = int(''.join(sorted(l, reverse=True)))\n",
    "    \n",
    "    print(f'rearranged_difference({num}) ➞ {max_number} - {min_number} ➞ {max_number-min_number}')\n",
    "\n",
    "rearrange_difference(972882)    \n",
    "rearrange_difference(3320707)\n",
    "rearrange_difference(91000)"
   ]
  },
  {
   "cell_type": "code",
   "execution_count": null,
   "id": "141f2122",
   "metadata": {},
   "outputs": [],
   "source": []
  }
 ],
 "metadata": {
  "kernelspec": {
   "display_name": "Python 3 (ipykernel)",
   "language": "python",
   "name": "python3"
  },
  "language_info": {
   "codemirror_mode": {
    "name": "ipython",
    "version": 3
   },
   "file_extension": ".py",
   "mimetype": "text/x-python",
   "name": "python",
   "nbconvert_exporter": "python",
   "pygments_lexer": "ipython3",
   "version": "3.9.12"
  }
 },
 "nbformat": 4,
 "nbformat_minor": 5
}
