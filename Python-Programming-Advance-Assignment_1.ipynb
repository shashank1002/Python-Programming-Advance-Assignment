{
 "cells": [
  {
   "cell_type": "markdown",
   "id": "5814634a",
   "metadata": {},
   "source": [
    "1. Write a function that takes a list of lists and returns the value of all of the\n",
    "symbols in it, where each symbol adds or takes something from the total\n",
    "score. Symbol values:\n",
    "'#' = 5\n",
    "O = 3\n",
    "X = 1\n",
    "! = -1\n",
    "!! = -3\n",
    "!!! = -5\n",
    "A list of lists containing 2 #s, a O, and a !!! would equal (0 + 5 + 5 + 3 - 5) 8.\n",
    "If the final score is negative, return 0 (e.g. 3 #s, 3 !!s, 2 !!!s and a X would be\n",
    "(0 + 5 + 5 + 5 - 3 - 3 - 3 - 5 - 5 + 1) -3, so return 0."
   ]
  },
  {
   "cell_type": "code",
   "execution_count": 1,
   "id": "4725ddd3",
   "metadata": {},
   "outputs": [
    {
     "data": {
      "text/plain": [
       "6"
      ]
     },
     "execution_count": 1,
     "metadata": {},
     "output_type": "execute_result"
    }
   ],
   "source": [
    "#ANSWER 1\n",
    "def value_of_symbol(n): #n is input list of list\n",
    "    dic = {'#':5, 'O':3, 'X':1, '!':-1, '!!':-3, '!!!':-5}\n",
    "    score = 0\n",
    "    for i in range(len(n)):#iterate outer list\n",
    "        for j in range(len(n[i])):#iterate inner list \n",
    "            score += dic[n[i][j]]\n",
    "    if score > 0: #return value if it is positive\n",
    "        return score\n",
    "    else: #return 0 if score is negative\n",
    "        return 0\n",
    "value_of_symbol([['X','O'],['O','!']])"
   ]
  },
  {
   "cell_type": "markdown",
   "id": "dbec8acc",
   "metadata": {},
   "source": [
    "2. Create a function that takes a variable number of arguments, each\n",
    "argument representing the number of items in a group, and returns the\n",
    "number of permutations (combinations) of items that you could get by taking\n",
    "one item from each group."
   ]
  },
  {
   "cell_type": "code",
   "execution_count": 2,
   "id": "9a96442f",
   "metadata": {},
   "outputs": [
    {
     "data": {
      "text/plain": [
       "6"
      ]
     },
     "execution_count": 2,
     "metadata": {},
     "output_type": "execute_result"
    }
   ],
   "source": [
    "#ANSWER 2\n",
    "def permutation(*n):\n",
    "    num = 1\n",
    "    for i in n:\n",
    "        num *= i\n",
    "    return num\n",
    "permutation(2,3)"
   ]
  },
  {
   "cell_type": "markdown",
   "id": "2deefaa4",
   "metadata": {},
   "source": [
    "3. Create a function that takes a string as an argument and returns the Morse\n",
    "code equivalent."
   ]
  },
  {
   "cell_type": "code",
   "execution_count": 3,
   "id": "5fe93368",
   "metadata": {},
   "outputs": [
    {
     "data": {
      "text/plain": [
       "'.--. -.-- - .... --- -.'"
      ]
     },
     "execution_count": 3,
     "metadata": {},
     "output_type": "execute_result"
    }
   ],
   "source": [
    "#ANSWER 3\n",
    "char_to_dots = {\n",
    "    'A':'.-','B':'-...','C':'-.-.','D':'-..','E':'.','F':'..-.',\n",
    "    'G':'--.','H':'....','I':'..','J':'.---','K':'-.-','L':'.-..',\n",
    "    'M':'--','N':'-.','O':'---','P':'.--.','Q':'--.-','R':'.-.',\n",
    "    'S':'...','T':'-','U':'..-','V':'...-','W':'.--','X':'-..-',\n",
    "    'Y':'-.--','Z':'--..',' ':' ','0':'-----',\n",
    "    '1':'.----','2':'..---','3':'...--','4':'....-','5':'.....',\n",
    "    '6':'-....','7':'--...','8':'---..','9':'----.',\n",
    "    '&':'.-...',\"'''\":'.----.','@':'.--.-.',')':'-.--.-','(':'-.--.',':':'---...',\n",
    "    ',':'--..--','=':'-...-','!':'-.-.--','.':'.-.-.-',\n",
    "    '-':'-....-','+':'.-.-.',\"''\":'.-..-.','?':'..--..','/':'-..-.'\n",
    "    }\n",
    "def morse(n):\n",
    "    \n",
    "    return ' '.join([char_to_dots[i] for i in n])\n",
    "morse('PYTHON')"
   ]
  },
  {
   "cell_type": "markdown",
   "id": "8301ba4f",
   "metadata": {},
   "source": [
    "4. Write a function that takes a number and returns True if it's a prime; False\n",
    "otherwise. The number can be 2^64-1 (2 to the power of 63, not XOR). With\n",
    "the standard technique it would be O(2^64-1), which is much too large for the\n",
    "10 second time limit."
   ]
  },
  {
   "cell_type": "code",
   "execution_count": 4,
   "id": "6aaef21f",
   "metadata": {},
   "outputs": [
    {
     "data": {
      "text/plain": [
       "False"
      ]
     },
     "execution_count": 4,
     "metadata": {},
     "output_type": "execute_result"
    }
   ],
   "source": [
    "#ASNWER 4\n",
    "def prime(n):\n",
    "    if n == 1:\n",
    "        return False\n",
    "    elif n == 2:\n",
    "        return True\n",
    "    for i in range(2,n):\n",
    "        if n % 2 == 0:\n",
    "            return False\n",
    "    return True\n",
    "prime(34)"
   ]
  },
  {
   "cell_type": "markdown",
   "id": "3014de6f",
   "metadata": {},
   "source": [
    "5. Create a function that converts a word to a bitstring and then to a boolean\n",
    "list based on the following criteria:\n",
    "a) Locate the position of the letter in the English alphabet (from 1 to 26).\n",
    "b) Odd positions will be represented as 1 and 0 otherwise.\n",
    "c) Convert the represented positions to boolean values, 1 for True and 0\n",
    "for False.\n",
    "Store the conversions into an array."
   ]
  },
  {
   "cell_type": "code",
   "execution_count": 5,
   "id": "4daf97ee",
   "metadata": {},
   "outputs": [
    {
     "data": {
      "text/plain": [
       "[False, True, True, False]"
      ]
     },
     "execution_count": 5,
     "metadata": {},
     "output_type": "execute_result"
    }
   ],
   "source": [
    "#ANSWER 5\n",
    "def to_bool_list(n):\n",
    "    return [False if ord(n[i]) % 2 == 0 else True for i in range(len(n))]\n",
    "to_bool_list('deep')"
   ]
  }
 ],
 "metadata": {
  "kernelspec": {
   "display_name": "Python 3 (ipykernel)",
   "language": "python",
   "name": "python3"
  },
  "language_info": {
   "codemirror_mode": {
    "name": "ipython",
    "version": 3
   },
   "file_extension": ".py",
   "mimetype": "text/x-python",
   "name": "python",
   "nbconvert_exporter": "python",
   "pygments_lexer": "ipython3",
   "version": "3.9.12"
  }
 },
 "nbformat": 4,
 "nbformat_minor": 5
}
