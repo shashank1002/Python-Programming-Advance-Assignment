{
 "cells": [
  {
   "cell_type": "markdown",
   "id": "450726e8",
   "metadata": {},
   "source": [
    "1. Write a function that takes a positive integer num and calculates how many\n",
    "dots exist in a pentagonal shape around the center dot on the Nth iteration.\n",
    "In the image below you can see the first iteration is only a single dot. On the\n",
    "second, there are 6 dots. On the third, there are 16 dots, and on the fourth\n",
    "there are 31 dots.\n",
    "\n",
    "Return the number of dots that exist in the whole pentagon on the Nth\n",
    "iteration."
   ]
  },
  {
   "cell_type": "code",
   "execution_count": 1,
   "id": "b62cdd39",
   "metadata": {},
   "outputs": [
    {
     "data": {
      "text/plain": [
       "1"
      ]
     },
     "execution_count": 1,
     "metadata": {},
     "output_type": "execute_result"
    }
   ],
   "source": [
    "#ANSWER 1\n",
    "def pentagonal(n):\n",
    "    if n == 1:\n",
    "        return 1\n",
    "    point = 1\n",
    "    for i in range(1,n):\n",
    "        point = point + 5 * i\n",
    "    return point\n",
    "pentagonal(1)"
   ]
  },
  {
   "cell_type": "markdown",
   "id": "9ae7362d",
   "metadata": {},
   "source": [
    "2. Make a function that encrypts a given input with these steps:\n",
    "Input: 'apple'\n",
    "Step 1: Reverse the input: 'elpp'\n",
    "Step 2: Replace all vowels using the following chart:\n",
    "a => 0\n",
    "e => 1\n",
    "i => 2\n",
    "o => 2\n",
    "u => 3\n",
    "'#' '1lpp0'\n",
    "\n",
    "Step 3: Add 'aca' to the end of the word: '1lpp0aca'\n",
    "Output: '1lpp0aca'"
   ]
  },
  {
   "cell_type": "code",
   "execution_count": 2,
   "id": "6cecf6a3",
   "metadata": {},
   "outputs": [
    {
     "data": {
      "text/plain": [
       "'1lpp0aca'"
      ]
     },
     "execution_count": 2,
     "metadata": {},
     "output_type": "execute_result"
    }
   ],
   "source": [
    "#ANSWER 2\n",
    "vowel = {\n",
    "        'a':0,\n",
    "        'e':1,\n",
    "        'i':2,\n",
    "        'o':2,\n",
    "        'u':3\n",
    "        }\n",
    "def encrypt(n):\n",
    "    return ''.join([str(vowel[i]) if i in vowel.keys() else i for i in n[::-1]])+'aca'\n",
    "encrypt('apple')"
   ]
  },
  {
   "cell_type": "markdown",
   "id": "50cf81e8",
   "metadata": {},
   "source": [
    "3. Given the month and year as numbers, return whether that month contains\n",
    "a Friday 13th.(i.e You can check Python's datetime module)"
   ]
  },
  {
   "cell_type": "code",
   "execution_count": 3,
   "id": "8d1f4b2a",
   "metadata": {},
   "outputs": [
    {
     "data": {
      "text/plain": [
       "True"
      ]
     },
     "execution_count": 3,
     "metadata": {},
     "output_type": "execute_result"
    }
   ],
   "source": [
    "#ANSWER 3\n",
    "import datetime as dt\n",
    "def feb_13(y,m):\n",
    "    if dt.date(y,m,13).isoweekday() == 5:\n",
    "        return True\n",
    "    return False\n",
    "feb_13(2022,5)"
   ]
  },
  {
   "cell_type": "markdown",
   "id": "0145a00c",
   "metadata": {},
   "source": [
    "4. Write a regular expression that will help us count how many bad cookies\n",
    "are produced every day. You must use RegEx negative lookbehind."
   ]
  },
  {
   "cell_type": "code",
   "execution_count": 4,
   "id": "16d304b5",
   "metadata": {},
   "outputs": [
    {
     "data": {
      "text/plain": [
       "2"
      ]
     },
     "execution_count": 4,
     "metadata": {},
     "output_type": "execute_result"
    }
   ],
   "source": [
    "#ANSWER 4\n",
    "import re\n",
    "\n",
    "def find(n):\n",
    "    return len(re.findall('bad',' '.join(n)))\n",
    "find(['bad cookie', 'good cookie', 'bad cookie', 'good cookie', 'good cookie'])"
   ]
  },
  {
   "cell_type": "markdown",
   "id": "668a9261",
   "metadata": {},
   "source": [
    "5. Given a list of words in the singular form, return a set of those words in the\n",
    "plural form if they appear more than once in the list."
   ]
  },
  {
   "cell_type": "code",
   "execution_count": 5,
   "id": "6f098be0",
   "metadata": {},
   "outputs": [
    {
     "data": {
      "text/plain": [
       "{'cows', 'pig'}"
      ]
     },
     "execution_count": 5,
     "metadata": {},
     "output_type": "execute_result"
    }
   ],
   "source": [
    "#ANSWER 5\n",
    "def pluralize(n):\n",
    "    s = set()\n",
    "    for i in set(n):\n",
    "        if n.count(i) > 1:\n",
    "            s.add(i + 's')\n",
    "        else:\n",
    "            s.add(i)\n",
    "    return s\n",
    "pluralize(['cow','cow','pig','cow'])"
   ]
  }
 ],
 "metadata": {
  "kernelspec": {
   "display_name": "Python 3 (ipykernel)",
   "language": "python",
   "name": "python3"
  },
  "language_info": {
   "codemirror_mode": {
    "name": "ipython",
    "version": 3
   },
   "file_extension": ".py",
   "mimetype": "text/x-python",
   "name": "python",
   "nbconvert_exporter": "python",
   "pygments_lexer": "ipython3",
   "version": "3.9.12"
  }
 },
 "nbformat": 4,
 "nbformat_minor": 5
}
