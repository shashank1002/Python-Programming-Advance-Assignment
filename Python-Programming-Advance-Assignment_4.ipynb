{
 "cells": [
  {
   "cell_type": "markdown",
   "id": "028e3080",
   "metadata": {},
   "source": [
    "1. In mathematics, the Fibonacci numbers, commonly denoted Fn, form a\n",
    "sequence, called the Fibonacci sequence, such that each number is the sum\n",
    "of the two preceding ones, starting from 0 and 1:\n",
    "\n",
    "The beginning of the sequence is this:\n",
    "0, 1, 1, 2, 3, 5, 8, 13, 21, 34, 55, 89, 144, ...\n",
    "The function fastFib(num) returns the fibonacci number Fn, of the given num\n",
    "as an argument.\n",
    "Examples\n",
    "fib_fast(5) ➞ 5\n",
    "fib_fast(10) ➞ 55\n",
    "fib_fast(20) ➞ 6765\n",
    "fib_fast(50) ➞ 12586269025"
   ]
  },
  {
   "cell_type": "code",
   "execution_count": 1,
   "id": "81c35c30",
   "metadata": {},
   "outputs": [
    {
     "name": "stdout",
     "output_type": "stream",
     "text": [
      "0\n",
      "1\n",
      "1\n",
      "2\n"
     ]
    }
   ],
   "source": [
    "def fibonacci(n):\n",
    "    a, b = 0, 1\n",
    "    for i in range(n):\n",
    "        yield a\n",
    "        a, b = b, a+b\n",
    "for i in fibonacci(4):\n",
    "    print(i)"
   ]
  },
  {
   "cell_type": "markdown",
   "id": "d03077b1",
   "metadata": {},
   "source": [
    "2. Create a function that takes a strings characters as ASCII and returns each\n",
    "characters hexadecimal value as a string."
   ]
  },
  {
   "cell_type": "code",
   "execution_count": 2,
   "id": "dede6ec4",
   "metadata": {},
   "outputs": [
    {
     "data": {
      "text/plain": [
       "'68 65 6c 6c 6f 20 77 6f 72 6c 64'"
      ]
     },
     "execution_count": 2,
     "metadata": {},
     "output_type": "execute_result"
    }
   ],
   "source": [
    "def convert(n):\n",
    "    return ' '.join([hex(ord(i))[-2:] for i in n])\n",
    "convert('hello world')"
   ]
  },
  {
   "cell_type": "markdown",
   "id": "b2ccd1fa",
   "metadata": {},
   "source": [
    "3. Someone has attempted to censor my strings by replacing every vowel\n",
    "with a *, l*k* th*s. Luckily, I've been able to find the vowels that were\n",
    "removed.\n",
    "Given a censored string and a string of the censored vowels, return the\n",
    "original uncensored string."
   ]
  },
  {
   "cell_type": "code",
   "execution_count": 3,
   "id": "17e3fb2d",
   "metadata": {},
   "outputs": [
    {
     "data": {
      "text/plain": [
       "'UPPERCASE'"
      ]
     },
     "execution_count": 3,
     "metadata": {},
     "output_type": "execute_result"
    }
   ],
   "source": [
    "def censor(a,b):\n",
    "    count = 0\n",
    "    a = [i for i in a]\n",
    "    for i in a:\n",
    "        if i == '*':\n",
    "            a[a.index(i)] = b[count]\n",
    "            count += 1\n",
    "    return ''.join(a)\n",
    "censor('*PP*RC*S*','UEAE')"
   ]
  },
  {
   "cell_type": "markdown",
   "id": "3d44da64",
   "metadata": {},
   "source": [
    "4. Write a function that takes an IP address and returns the domain name\n",
    "using PTR DNS records."
   ]
  },
  {
   "cell_type": "code",
   "execution_count": 14,
   "id": "7a2ac857",
   "metadata": {},
   "outputs": [
    {
     "data": {
      "text/plain": [
       "'dns.google'"
      ]
     },
     "execution_count": 14,
     "metadata": {},
     "output_type": "execute_result"
    }
   ],
   "source": [
    "import socket\n",
    "def domain(n):\n",
    "    return socket.gethostbyaddr(n)[0]\n",
    "domain('8.8.4')"
   ]
  },
  {
   "cell_type": "markdown",
   "id": "b0c5ee38",
   "metadata": {},
   "source": [
    "5. Create a function that takes an integer n and returns the factorial of\n",
    "factorials."
   ]
  },
  {
   "cell_type": "code",
   "execution_count": null,
   "id": "04b8c62b",
   "metadata": {},
   "outputs": [],
   "source": [
    "def factorial(n):\n",
    "    s = 1\n",
    "    for i in range(1,n+1):\n",
    "        s *= i\n",
    "    return s\n",
    "def fact(a):\n",
    "    s = 1\n",
    "    for i in range(1,a+1):\n",
    "        s = s * factorial(i)\n",
    "    return s\n",
    "fact(4)"
   ]
  }
 ],
 "metadata": {
  "kernelspec": {
   "display_name": "Python 3 (ipykernel)",
   "language": "python",
   "name": "python3"
  },
  "language_info": {
   "codemirror_mode": {
    "name": "ipython",
    "version": 3
   },
   "file_extension": ".py",
   "mimetype": "text/x-python",
   "name": "python",
   "nbconvert_exporter": "python",
   "pygments_lexer": "ipython3",
   "version": "3.9.12"
  }
 },
 "nbformat": 4,
 "nbformat_minor": 5
}
